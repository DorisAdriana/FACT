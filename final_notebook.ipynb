{
 "cells": [
  {
   "attachments": {},
   "cell_type": "markdown",
   "metadata": {},
   "source": [
    "# insert titel of code\n",
    "\n",
    "generic intro text"
   ]
  },
  {
   "attachments": {},
   "cell_type": "markdown",
   "metadata": {},
   "source": [
    "## imports"
   ]
  },
  {
   "attachments": {},
   "cell_type": "markdown",
   "metadata": {},
   "source": [
    "### Libraries"
   ]
  },
  {
   "cell_type": "code",
   "execution_count": 3,
   "metadata": {},
   "outputs": [],
   "source": [
    "import pickle\n",
    "import torch\n",
    "import matplotlib.pyplot as plt\n",
    "import argparse"
   ]
  },
  {
   "attachments": {},
   "cell_type": "markdown",
   "metadata": {},
   "source": [
    "### Custom scripts"
   ]
  },
  {
   "cell_type": "code",
   "execution_count": 4,
   "metadata": {},
   "outputs": [],
   "source": [
    "# from scripts.args import *\n",
    "from scripts.base_model.preprocessing import *\n",
    "from scripts.base_model.train_base import *\n",
    "from scripts.base_model.models import *\n",
    "from scripts.evaluation.eval_model import *\n",
    "from scripts.evaluation.get_results import *\n",
    "from scripts.CEF_model.CEF_model import *\n",
    "from scripts.CEF_model.train_CEF import *\n"
   ]
  },
  {
   "attachments": {},
   "cell_type": "markdown",
   "metadata": {},
   "source": [
    "## Args"
   ]
  },
  {
   "attachments": {},
   "cell_type": "markdown",
   "metadata": {},
   "source": [
    "### args preprocessing"
   ]
  },
  {
   "cell_type": "code",
   "execution_count": 5,
   "metadata": {},
   "outputs": [],
   "source": [
    "def arg_parser_preprocessing():\n",
    "    parser = argparse.ArgumentParser()\n",
    "    parser.add_argument(\"--sentires_dir\", dest=\"sentires_dir\", type=str, default=\"data/input_data/reviews_with_features.txt\", \n",
    "                        help=\"path to sentires data\")\n",
    "    parser.add_argument(\"--review_dir\", dest=\"review_dir\", type=str, default=\"data/input_data/reviews_Electronics_5_filtered.json\", \n",
    "                        help=\"path to original review data\")\n",
    "    parser.add_argument(\"--user_thresh\", dest=\"user_thresh\", type=int, default=20, \n",
    "                        help=\"remove users with reviews less than this threshold\")\n",
    "    parser.add_argument(\"--item_thresh\", dest=\"item_thresh\", type=int, default=20, \n",
    "                        help=\"remove users with reviews less than this threshold\")\n",
    "    parser.add_argument(\"--sample_ratio\", dest=\"sample_ratio\", type=int, default=2, \n",
    "                        help=\"the (negative: positive sample) ratio for training BPR loss\")\n",
    "    parser.add_argument(\"--test_length\", dest=\"test_length\", type=int, default=5, \n",
    "                        help=\"the number of test items\")\n",
    "    parser.add_argument(\"--val_length\", dest=\"val_length\", type=int, default=1, \n",
    "                        help=\"the number of val items\")\n",
    "    parser.add_argument(\"--neg_length\", dest=\"neg_length\", type=int, default=100, help=\"# of negative samples in evaluation\")\n",
    "    parser.add_argument(\"--save_path\", dest=\"save_path\", type=str, default=\"data/preprocessed_data/Dataset.pickle\", \n",
    "                        help=\"The path to save the preprocessed dataset object\")\n",
    "    parser.add_argument(\"--use_pre\", dest=\"use_pre\", type=str, default=False, \n",
    "            help=\"Wether or not to use a stored dataset object\")\n",
    "    return parser.parse_known_args()"
   ]
  },
  {
   "attachments": {},
   "cell_type": "markdown",
   "metadata": {},
   "source": [
    "### args Train base model"
   ]
  },
  {
   "cell_type": "code",
   "execution_count": 6,
   "metadata": {},
   "outputs": [],
   "source": [
    "def arg_parser_training():\n",
    "    parser = argparse.ArgumentParser()\n",
    "    parser.add_argument(\"--device\", dest = \"device\", type=str, default='cpu')\n",
    "    parser.add_argument(\"--batch_size\", dest=\"batch_size\", type=int, default=128)\n",
    "    parser.add_argument(\"--lr\", dest=\"lr\", type=float, default=0.01)\n",
    "    parser.add_argument(\"--rec_k\", dest=\"rec_k\", type=int, default=5, help=\"length of rec list\")\n",
    "    parser.add_argument(\"--gpu\", default=False)\n",
    "    parser.add_argument(\"--weight_decay\", default=0., type=float) # not sure whether to use\n",
    "    parser.add_argument(\"--model_path\", dest=\"model_path\", type=str, default=\"data/models/model.model\", \n",
    "                        help=\"The path to save the model\")\n",
    "    parser.add_argument(\"--epochs\", dest=\"epochs\", type=int, default=1)\n",
    "    parser.add_argument(\"--use_pre\", dest=\"use_pre\", type=str, default=True, \n",
    "            help=\"Wether or not to use a stored model object\")\n",
    "    return parser.parse_known_args()"
   ]
  },
  {
   "attachments": {},
   "cell_type": "markdown",
   "metadata": {},
   "source": [
    "### arg CEF"
   ]
  },
  {
   "cell_type": "code",
   "execution_count": 7,
   "metadata": {},
   "outputs": [],
   "source": [
    "# todo\n",
    "def arg_parser_training():\n",
    "    parser = argparse.ArgumentParser()\n",
    "    parser.add_argument(\"--device\", dest = \"device\", type=str, default='cpu')\n",
    "    parser.add_argument(\"--rec_k\", dest=\"rec_k\", type=int, default=5, help=\"length of rec list\")\n",
    "    parser.add_argument(\"--ld\", default=1, type=float) # not sure whether to use\n",
    "    parser.add_argument(\"--lr\", dest=\"lr\", type=float, default=0.01)\n",
    "    parser.add_argument(\"--model_path\", dest=\"model_path\", type=str, default=\"data/models/CEF_model.model\", \n",
    "                        help=\"The path to save the model\")\n",
    "    parser.add_argument(\"--epochs\", dest=\"epochs\", type=int, default=1)\n",
    "    parser.add_argument(\"--use_pre\", dest=\"use_pre\", type=str, default=True, \n",
    "            help=\"Wether or not to use a stored model object\")\n",
    "    return parser.parse_known_args()"
   ]
  },
  {
   "attachments": {},
   "cell_type": "markdown",
   "metadata": {},
   "source": [
    "### args get results"
   ]
  },
  {
   "cell_type": "code",
   "execution_count": 8,
   "metadata": {},
   "outputs": [],
   "source": [
    "def arg_parser_results():\n",
    "    parser = argparse.ArgumentParser()\n",
    "    parser.add_argument(\"--device\", dest = \"device\", type=str, default='cpu')\n",
    "    parser.add_argument(\"--remove_size\", dest=\"remove_size\", type=int, default=50)\n",
    "    parser.add_argument(\"--rec_k\", dest=\"rec_k\", type=int, default=5, help=\"length of rec list\")\n",
    "    parser.add_argument(\"--output_path\", dest=\"output_path\", type=str, default=\"results/result dicts/\", \n",
    "                        help=\"The path to save the model\")\n",
    "    parser.add_argument(\"--epochs\", dest=\"epochs\", type=int, default=1)\n",
    "    parser.add_argument(\"--beta\", dest=\"beta\", type=int, default=0.1 )\n",
    "    return parser.parse_known_args()"
   ]
  },
  {
   "attachments": {},
   "cell_type": "markdown",
   "metadata": {},
   "source": [
    "## Basemodel"
   ]
  },
  {
   "cell_type": "code",
   "execution_count": 3,
   "metadata": {},
   "outputs": [],
   "source": [
    "device = \"cpu\""
   ]
  },
  {
   "attachments": {},
   "cell_type": "markdown",
   "metadata": {},
   "source": [
    "### Preprocessing"
   ]
  },
  {
   "cell_type": "code",
   "execution_count": 9,
   "metadata": {},
   "outputs": [
    {
     "name": "stdout",
     "output_type": "stream",
     "text": [
      "======================= sample training data =======================\n",
      "# training samples : 285879\n",
      "======================= sample test data =======================\n",
      "# test samples : 5105\n"
     ]
    }
   ],
   "source": [
    "# get the arguments for preprocessing\n",
    "preprocessing_args, unkown = arg_parser_preprocessing()\n",
    "\n",
    "# load dataset if the dataset exist\n",
    "dataset_path = preprocessing_args.save_path\n",
    "if preprocessing_args.use_pre:\n",
    "    with open(dataset_path, \"rb\") as f:\n",
    "        dataset = pickle.load(f)\n",
    "else:\n",
    "    dataset = preprocessing(preprocessing_args)\n",
    "    with open(dataset_path, \"wb\") as f:\n",
    "            pickle.dump(dataset, f)"
   ]
  },
  {
   "attachments": {},
   "cell_type": "markdown",
   "metadata": {},
   "source": [
    "### Train base model"
   ]
  },
  {
   "cell_type": "code",
   "execution_count": 5,
   "metadata": {},
   "outputs": [
    {
     "name": "stderr",
     "output_type": "stream",
     "text": [
      "  0%|          | 0/1 [00:00<?, ?it/s]"
     ]
    },
    {
     "name": "stdout",
     "output_type": "stream",
     "text": [
      "epoch 0:  training loss:  0.5512831\n"
     ]
    },
    {
     "name": "stderr",
     "output_type": "stream",
     "text": [
      "100%|██████████| 1/1 [02:17<00:00, 137.99s/it]"
     ]
    },
    {
     "name": "stdout",
     "output_type": "stream",
     "text": [
      "epoch 0:  training loss:  0.5512831 NDCG:  0.2589887707623413\n"
     ]
    },
    {
     "name": "stderr",
     "output_type": "stream",
     "text": [
      "\n"
     ]
    }
   ],
   "source": [
    "train_args, _ = arg_parser_training()\n",
    "model_path = train_args.model_path\n",
    "if train_args.use_pre:\n",
    "    base_model = BaseRecModel(dataset.feature_num, dataset).to(device)\n",
    "    base_model.load_state_dict(torch.load(model_path))\n",
    "else:\n",
    "    base_model = trainmodel(train_args, dataset)"
   ]
  },
  {
   "attachments": {},
   "cell_type": "markdown",
   "metadata": {},
   "source": [
    "### Results of base model"
   ]
  },
  {
   "cell_type": "code",
   "execution_count": 6,
   "metadata": {},
   "outputs": [
    {
     "name": "stdout",
     "output_type": "stream",
     "text": [
      "ndcg : 0.2589887707623413\n",
      "f1 : 0.23682664054848193\n"
     ]
    }
   ],
   "source": [
    "ndcg, f1, _ = eval_model(dataset, 5, model, device)\n",
    "print(f\"ndcg : {ndcg}\")\n",
    "print(f\"f1 : {f1}\")"
   ]
  },
  {
   "attachments": {},
   "cell_type": "markdown",
   "metadata": {},
   "source": [
    "### CEF model"
   ]
  },
  {
   "cell_type": "code",
   "execution_count": 7,
   "metadata": {},
   "outputs": [],
   "source": [
    "### stil to do.\n",
    "CEF_args, _ = arg_parser_CEF()\n",
    "model_path = CEF_args.model_path\n",
    "if train_args.use_pre:\n",
    "    CEF_model = CEF(CEF_args, dataset, base_model).to(device)\n",
    "    CEF_model.load_state_dict(torch.load(model_path))\n",
    "else:\n",
    "    CEF_model = train_delta(CEF_args, CEF_model)"
   ]
  },
  {
   "attachments": {},
   "cell_type": "markdown",
   "metadata": {},
   "source": [
    "### Plot results"
   ]
  },
  {
   "cell_type": "code",
   "execution_count": 9,
   "metadata": {},
   "outputs": [
    {
     "name": "stdout",
     "output_type": "stream",
     "text": [
      "0.0\n"
     ]
    },
    {
     "ename": "KeyboardInterrupt",
     "evalue": "",
     "output_type": "error",
     "traceback": [
      "\u001b[1;31m---------------------------------------------------------------------------\u001b[0m",
      "\u001b[1;31mKeyboardInterrupt\u001b[0m                         Traceback (most recent call last)",
      "Cell \u001b[1;32mIn[9], line 2\u001b[0m\n\u001b[0;32m      1\u001b[0m result_args, _ \u001b[39m=\u001b[39m arg_parser_results()\n\u001b[1;32m----> 2\u001b[0m results \u001b[39m=\u001b[39m get_results(dataset, result_args, model)\n",
      "File \u001b[1;32mc:\\Users\\karst\\OneDrive\\Documenten\\uni\\master ai\\year 1\\fact\\code\\FACT_group_5\\scripts\\evaluation\\get_results.py:49\u001b[0m, in \u001b[0;36mget_results\u001b[1;34m(dataset, result_args, model)\u001b[0m\n\u001b[0;32m     46\u001b[0m \u001b[39m# print(_)\u001b[39;00m\n\u001b[0;32m     47\u001b[0m \u001b[39m#random\u001b[39;00m\n\u001b[0;32m     48\u001b[0m random_dataset \u001b[39m=\u001b[39m baseline_random(random_dataset, e\u001b[39m=\u001b[39me, visited\u001b[39m=\u001b[39mvisited_random)\n\u001b[1;32m---> 49\u001b[0m ndcg_random, _ , lt_random \u001b[39m=\u001b[39m eval_model(random_dataset, k, model, device)\n\u001b[0;32m     50\u001b[0m results[\u001b[39m\"\u001b[39m\u001b[39mrandom\u001b[39m\u001b[39m\"\u001b[39m][\u001b[39m\"\u001b[39m\u001b[39mndcg\u001b[39m\u001b[39m\"\u001b[39m]\u001b[39m.\u001b[39mappend(ndcg_random)\n\u001b[0;32m     51\u001b[0m results[\u001b[39m\"\u001b[39m\u001b[39mrandom\u001b[39m\u001b[39m\"\u001b[39m][\u001b[39m\"\u001b[39m\u001b[39mlt\u001b[39m\u001b[39m\"\u001b[39m]\u001b[39m.\u001b[39mappend(lt_random)\n",
      "File \u001b[1;32mc:\\Users\\karst\\OneDrive\\Documenten\\uni\\master ai\\year 1\\fact\\code\\FACT_group_5\\scripts\\evaluation\\eval_model.py:27\u001b[0m, in \u001b[0;36meval_model\u001b[1;34m(dataset, k, model, device)\u001b[0m\n\u001b[0;32m     24\u001b[0m scores \u001b[39m=\u001b[39m np\u001b[39m.\u001b[39marray(scores\u001b[39m.\u001b[39mto(\u001b[39m'\u001b[39m\u001b[39mcpu\u001b[39m\u001b[39m'\u001b[39m))\n\u001b[0;32m     26\u001b[0m \u001b[39m#ndcg\u001b[39;00m\n\u001b[1;32m---> 27\u001b[0m ndcg \u001b[39m=\u001b[39m ndcg_score([gt_labels], [scores], k\u001b[39m=\u001b[39;49mk)\n\u001b[0;32m     28\u001b[0m ndcg_scores\u001b[39m.\u001b[39mappend(ndcg)\n\u001b[0;32m     30\u001b[0m \u001b[39m#f1\u001b[39;00m\n",
      "File \u001b[1;32mc:\\Users\\karst\\anaconda3\\envs\\FACT_CPU\\lib\\site-packages\\sklearn\\metrics\\_ranking.py:1664\u001b[0m, in \u001b[0;36mndcg_score\u001b[1;34m(y_true, y_score, k, sample_weight, ignore_ties)\u001b[0m\n\u001b[0;32m   1658\u001b[0m     warnings\u001b[39m.\u001b[39mwarn(\n\u001b[0;32m   1659\u001b[0m         \u001b[39m\"\u001b[39m\u001b[39mndcg_score should not be used on negative y_true values. ndcg_score will\u001b[39m\u001b[39m\"\u001b[39m\n\u001b[0;32m   1660\u001b[0m         \u001b[39m\"\u001b[39m\u001b[39m raise a ValueError on negative y_true values starting from version 1.4.\u001b[39m\u001b[39m\"\u001b[39m,\n\u001b[0;32m   1661\u001b[0m         \u001b[39mFutureWarning\u001b[39;00m,\n\u001b[0;32m   1662\u001b[0m     )\n\u001b[0;32m   1663\u001b[0m _check_dcg_target_type(y_true)\n\u001b[1;32m-> 1664\u001b[0m gain \u001b[39m=\u001b[39m _ndcg_sample_scores(y_true, y_score, k\u001b[39m=\u001b[39;49mk, ignore_ties\u001b[39m=\u001b[39;49mignore_ties)\n\u001b[0;32m   1665\u001b[0m \u001b[39mreturn\u001b[39;00m np\u001b[39m.\u001b[39maverage(gain, weights\u001b[39m=\u001b[39msample_weight)\n",
      "File \u001b[1;32mc:\\Users\\karst\\anaconda3\\envs\\FACT_CPU\\lib\\site-packages\\sklearn\\metrics\\_ranking.py:1544\u001b[0m, in \u001b[0;36m_ndcg_sample_scores\u001b[1;34m(y_true, y_score, k, ignore_ties)\u001b[0m\n\u001b[0;32m   1504\u001b[0m \u001b[39mdef\u001b[39;00m \u001b[39m_ndcg_sample_scores\u001b[39m(y_true, y_score, k\u001b[39m=\u001b[39m\u001b[39mNone\u001b[39;00m, ignore_ties\u001b[39m=\u001b[39m\u001b[39mFalse\u001b[39;00m):\n\u001b[0;32m   1505\u001b[0m \u001b[39m    \u001b[39m\u001b[39m\"\"\"Compute Normalized Discounted Cumulative Gain.\u001b[39;00m\n\u001b[0;32m   1506\u001b[0m \n\u001b[0;32m   1507\u001b[0m \u001b[39m    Sum the true scores ranked in the order induced by the predicted scores,\u001b[39;00m\n\u001b[1;32m   (...)\u001b[0m\n\u001b[0;32m   1542\u001b[0m \n\u001b[0;32m   1543\u001b[0m \u001b[39m    \"\"\"\u001b[39;00m\n\u001b[1;32m-> 1544\u001b[0m     gain \u001b[39m=\u001b[39m _dcg_sample_scores(y_true, y_score, k, ignore_ties\u001b[39m=\u001b[39;49mignore_ties)\n\u001b[0;32m   1545\u001b[0m     \u001b[39m# Here we use the order induced by y_true so we can ignore ties since\u001b[39;00m\n\u001b[0;32m   1546\u001b[0m     \u001b[39m# the gain associated to tied indices is the same (permuting ties doesn't\u001b[39;00m\n\u001b[0;32m   1547\u001b[0m     \u001b[39m# change the value of the re-ordered y_true)\u001b[39;00m\n\u001b[0;32m   1548\u001b[0m     normalizing_gain \u001b[39m=\u001b[39m _dcg_sample_scores(y_true, y_true, k, ignore_ties\u001b[39m=\u001b[39m\u001b[39mTrue\u001b[39;00m)\n",
      "File \u001b[1;32mc:\\Users\\karst\\anaconda3\\envs\\FACT_CPU\\lib\\site-packages\\sklearn\\metrics\\_ranking.py:1326\u001b[0m, in \u001b[0;36m_dcg_sample_scores\u001b[1;34m(y_true, y_score, k, log_base, ignore_ties)\u001b[0m\n\u001b[0;32m   1324\u001b[0m \u001b[39melse\u001b[39;00m:\n\u001b[0;32m   1325\u001b[0m     discount_cumsum \u001b[39m=\u001b[39m np\u001b[39m.\u001b[39mcumsum(discount)\n\u001b[1;32m-> 1326\u001b[0m     cumulative_gains \u001b[39m=\u001b[39m [\n\u001b[0;32m   1327\u001b[0m         _tie_averaged_dcg(y_t, y_s, discount_cumsum)\n\u001b[0;32m   1328\u001b[0m         \u001b[39mfor\u001b[39;00m y_t, y_s \u001b[39min\u001b[39;00m \u001b[39mzip\u001b[39m(y_true, y_score)\n\u001b[0;32m   1329\u001b[0m     ]\n\u001b[0;32m   1330\u001b[0m     cumulative_gains \u001b[39m=\u001b[39m np\u001b[39m.\u001b[39masarray(cumulative_gains)\n\u001b[0;32m   1331\u001b[0m \u001b[39mreturn\u001b[39;00m cumulative_gains\n",
      "File \u001b[1;32mc:\\Users\\karst\\anaconda3\\envs\\FACT_CPU\\lib\\site-packages\\sklearn\\metrics\\_ranking.py:1327\u001b[0m, in \u001b[0;36m<listcomp>\u001b[1;34m(.0)\u001b[0m\n\u001b[0;32m   1324\u001b[0m \u001b[39melse\u001b[39;00m:\n\u001b[0;32m   1325\u001b[0m     discount_cumsum \u001b[39m=\u001b[39m np\u001b[39m.\u001b[39mcumsum(discount)\n\u001b[0;32m   1326\u001b[0m     cumulative_gains \u001b[39m=\u001b[39m [\n\u001b[1;32m-> 1327\u001b[0m         _tie_averaged_dcg(y_t, y_s, discount_cumsum)\n\u001b[0;32m   1328\u001b[0m         \u001b[39mfor\u001b[39;00m y_t, y_s \u001b[39min\u001b[39;00m \u001b[39mzip\u001b[39m(y_true, y_score)\n\u001b[0;32m   1329\u001b[0m     ]\n\u001b[0;32m   1330\u001b[0m     cumulative_gains \u001b[39m=\u001b[39m np\u001b[39m.\u001b[39masarray(cumulative_gains)\n\u001b[0;32m   1331\u001b[0m \u001b[39mreturn\u001b[39;00m cumulative_gains\n",
      "File \u001b[1;32mc:\\Users\\karst\\anaconda3\\envs\\FACT_CPU\\lib\\site-packages\\sklearn\\metrics\\_ranking.py:1373\u001b[0m, in \u001b[0;36m_tie_averaged_dcg\u001b[1;34m(y_true, y_score, discount_cumsum)\u001b[0m\n\u001b[0;32m   1371\u001b[0m _, inv, counts \u001b[39m=\u001b[39m np\u001b[39m.\u001b[39munique(\u001b[39m-\u001b[39my_score, return_inverse\u001b[39m=\u001b[39m\u001b[39mTrue\u001b[39;00m, return_counts\u001b[39m=\u001b[39m\u001b[39mTrue\u001b[39;00m)\n\u001b[0;32m   1372\u001b[0m ranked \u001b[39m=\u001b[39m np\u001b[39m.\u001b[39mzeros(\u001b[39mlen\u001b[39m(counts))\n\u001b[1;32m-> 1373\u001b[0m np\u001b[39m.\u001b[39;49madd\u001b[39m.\u001b[39;49mat(ranked, inv, y_true)\n\u001b[0;32m   1374\u001b[0m ranked \u001b[39m/\u001b[39m\u001b[39m=\u001b[39m counts\n\u001b[0;32m   1375\u001b[0m groups \u001b[39m=\u001b[39m np\u001b[39m.\u001b[39mcumsum(counts) \u001b[39m-\u001b[39m \u001b[39m1\u001b[39m\n",
      "\u001b[1;31mKeyboardInterrupt\u001b[0m: "
     ]
    }
   ],
   "source": [
    "result_args, _ = arg_parser_results()\n",
    "results = get_results(dataset, result_args, base_model, CEF_model)"
   ]
  },
  {
   "cell_type": "code",
   "execution_count": 11,
   "metadata": {},
   "outputs": [],
   "source": [
    "def plot_results(results):\n",
    "    for method in results:\n",
    "        result = results[method]\n",
    "        plt.scatter(result[\"lt\"], result[\"ndcg\"], label = method)\n",
    "    \n",
    "    plt.xlabel(\"long tail rate\")\n",
    "    plt.ylabel(\"NDCG\")\n",
    "    plt.legend()\n",
    "    plt.show()"
   ]
  },
  {
   "cell_type": "code",
   "execution_count": 12,
   "metadata": {},
   "outputs": [
    {
     "data": {
      "image/png": "[encoded data removed]",
      "text/plain": [
       "<Figure size 640x480 with 1 Axes>"
      ]
     },
     "metadata": {},
     "output_type": "display_data"
    }
   ],
   "source": [
    "plot_results(results)"
   ]
  }
 ],
 "metadata": {
  "kernelspec": {
   "display_name": "FACT_CPU",
   "language": "python",
   "name": "python3"
  },
  "language_info": {
   "codemirror_mode": {
    "name": "ipython",
    "version": 3
   },
   "file_extension": ".py",
   "mimetype": "text/x-python",
   "name": "python",
   "nbconvert_exporter": "python",
   "pygments_lexer": "ipython3",
   "version": "3.10.6"
  },
  "orig_nbformat": 4,
  "vscode": {
   "interpreter": {
    "hash": "c342e54a98a71db42fbd6ae012ac49d71548558fbe3a8689fd9084286f363d46"
   }
  }
 },
 "nbformat": 4,
 "nbformat_minor": 2
}
