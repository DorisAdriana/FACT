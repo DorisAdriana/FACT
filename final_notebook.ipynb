{
 "cells": [
  {
   "attachments": {},
   "cell_type": "markdown",
   "metadata": {},
   "source": [
    "# insert titel of code\n",
    "\n",
    "generic intro text"
   ]
  },
  {
   "attachments": {},
   "cell_type": "markdown",
   "metadata": {},
   "source": [
    "## imports"
   ]
  },
  {
   "attachments": {},
   "cell_type": "markdown",
   "metadata": {},
   "source": [
    "### Libraries"
   ]
  },
  {
   "cell_type": "code",
   "execution_count": null,
   "metadata": {},
   "outputs": [],
   "source": [
    "import pickle\n",
    "import torch\n",
    "import matplotlib.pyplot as plt\n",
    "import argparse"
   ]
  },
  {
   "attachments": {},
   "cell_type": "markdown",
   "metadata": {},
   "source": [
    "### Custom scripts"
   ]
  },
  {
   "cell_type": "code",
   "execution_count": null,
   "metadata": {},
   "outputs": [],
   "source": [
    "# from scripts.args import *\n",
    "from scripts.base_model.preprocessing import *\n",
    "from scripts.base_model.train_base import *\n",
    "from scripts.base_model.models import *\n",
    "from scripts.evaluation.eval_model import *\n",
    "from scripts.evaluation.get_results import *\n",
    "from scripts.CEF_model.CEF_model import *\n",
    "from scripts.CEF_model.train_CEF import *\n"
   ]
  },
  {
   "attachments": {},
   "cell_type": "markdown",
   "metadata": {},
   "source": [
    "## Args"
   ]
  },
  {
   "attachments": {},
   "cell_type": "markdown",
   "metadata": {},
   "source": [
    "### args preprocessing\n",
    "\n",
    "sentires_dir    =       location of the preprocessed data. \\\n",
    "review_dir      =       location of the json dataset \\\n",
    "user_thresh     =       how many reviews a user needs to have \\\n",
    "item_thresh     =       how many reviews an item has to have \\\n",
    "sample_ratio    =       \\\n",
    "test_length     =       how many items in the test set. \\\n",
    "neg_length      =       amount of negative items. \\\n",
    "save_path       =       where the dataset object will be saved. \\\n",
    "user_pre        =       wether or not to use a pre created dataset. If this value is true it will use                     the data stroted in save_path."
   ]
  },
  {
   "cell_type": "code",
   "execution_count": null,
   "metadata": {},
   "outputs": [],
   "source": [
    "def arg_parser_preprocessing():\n",
    "    parser = argparse.ArgumentParser()\n",
    "    parser.add_argument(\"--sentires_dir\", dest=\"sentires_dir\", type=str, default=\"data/input_data/reviews_with_features.txt\", \n",
    "                        help=\"path to sentires data\")\n",
    "    parser.add_argument(\"--review_dir\", dest=\"review_dir\", type=str, default=\"data/input_data/reviews_Electronics_5_filtered.json\", \n",
    "                        help=\"path to original review data\")\n",
    "    parser.add_argument(\"--user_thresh\", dest=\"user_thresh\", type=int, default=20, \n",
    "                        help=\"remove users with reviews less than this threshold\")\n",
    "    parser.add_argument(\"--item_thresh\", dest=\"item_thresh\", type=int, default=10, \n",
    "                        help=\"remove users with reviews less than this threshold\")\n",
    "    parser.add_argument(\"--sample_ratio\", dest=\"sample_ratio\", type=int, default=2, \n",
    "                        help=\"the (negative: positive sample) ratio for training BPR loss\")\n",
    "    parser.add_argument(\"--test_length\", dest=\"test_length\", type=int, default=5, \n",
    "                        help=\"the number of test items\")\n",
    "    parser.add_argument(\"--neg_length\", dest=\"neg_length\", type=int, default=100, help=\"# of negative samples in evaluation\")\n",
    "    parser.add_argument(\"--save_path\", dest=\"save_path\", type=str, default=\"data/preprocessed_data/dataset.pickle\", \n",
    "                        help=\"The path to save the preprocessed dataset object\")\n",
    "    parser.add_argument(\"--use_pre\", dest=\"use_pre\", type=str, default=True, \n",
    "            help=\"Wether or not to use a stored dataset object\")\n",
    "    parser.add_argument(\"--extra_filter\", dest=\"extra_filter\", type=bool, default=True)\n",
    "    return parser.parse_known_args()"
   ]
  },
  {
   "attachments": {},
   "cell_type": "markdown",
   "metadata": {},
   "source": [
    "### args Train base model\n",
    "\n",
    "device = either cpu or cuda depending on wether you use a gpu \\\n",
    "batch_size = the batch size \\\n",
    "lr = learning rate \\\n",
    "rec_k = length of the recommendation list \\\n",
    "weight_decay = "
   ]
  },
  {
   "cell_type": "code",
   "execution_count": null,
   "metadata": {},
   "outputs": [],
   "source": [
    "def arg_parser_training():\n",
    "    parser = argparse.ArgumentParser()\n",
    "    parser.add_argument(\"--device\", dest = \"device\", type=str, default='cpu')\n",
    "    parser.add_argument(\"--gpu\", default=False)\n",
    "    parser.add_argument(\"--batch_size\", dest=\"batch_size\", type=int, default=128)\n",
    "    parser.add_argument(\"--lr\", dest=\"lr\", type=float, default=0.01)\n",
    "    parser.add_argument(\"--rec_k\", dest=\"rec_k\", type=int, default=5, help=\"length of rec list\")\n",
    "    parser.add_argument(\"--weight_decay\", default=0., type=float) # not sure whether to use\n",
    "    parser.add_argument(\"--model_path\", dest=\"model_path\", type=str, default=\"data/models/model_20_test.model\", \n",
    "                        help=\"The path to save the model\")\n",
    "    parser.add_argument(\"--epochs\", dest=\"epochs\", type=int, default=50)\n",
    "    parser.add_argument(\"--use_pre\", dest=\"use_pre\", type=str, default=True, \n",
    "            help=\"Wether or not to use a stored model object\")\n",
    "    return parser.parse_known_args()"
   ]
  },
  {
   "attachments": {},
   "cell_type": "markdown",
   "metadata": {},
   "source": [
    "### arg CEF"
   ]
  },
  {
   "cell_type": "code",
   "execution_count": null,
   "metadata": {},
   "outputs": [],
   "source": [
    "# todo\n",
    "def arg_parser_CEF():\n",
    "    parser = argparse.ArgumentParser()\n",
    "    parser.add_argument(\"--device\", dest = \"device\", type=str, default='cpu')\n",
    "    parser.add_argument(\"--rec_k\", dest=\"rec_k\", type=int, default=5, help=\"length of rec list\")\n",
    "    parser.add_argument(\"--ld\", default=1, type=float) # not sure whether to use\n",
    "    parser.add_argument(\"--lr\", dest=\"lr\", type=float, default=0.01)\n",
    "    parser.add_argument(\"--model_path\", dest=\"model_path\", type=str, default=\"data/models/CEF_model.model\", \n",
    "                        help=\"The path to save the model\")\n",
<<<<<<< Updated upstream
    "    parser.add_argument(\"--epochs\", dest=\"epochs\", type=int, default=300)\n",
    "    parser.add_argument(\"--use_pre\", dest=\"use_pre\", type=str, default=False, \n",
=======
    "    parser.add_argument(\"--epochs\", dest=\"epochs\", type=int, default=100)\n",
    "    parser.add_argument(\"--use_pre\", dest=\"use_pre\", type=str, default=True, \n",
>>>>>>> Stashed changes
    "            help=\"Wether or not to use a stored model object\")\n",
    "    return parser.parse_known_args()"
   ]
  },
  {
   "attachments": {},
   "cell_type": "markdown",
   "metadata": {},
   "source": [
    "### args get results"
   ]
  },
  {
   "cell_type": "code",
   "execution_count": null,
   "metadata": {},
   "outputs": [],
   "source": [
    "def arg_parser_results():\n",
    "    parser = argparse.ArgumentParser()\n",
    "    parser.add_argument(\"--device\", dest = \"device\", type=str, default='cpu')\n",
    "    parser.add_argument(\"--remove_size\", dest=\"remove_size\", type=int, default=50)\n",
    "    parser.add_argument(\"--rec_k\", dest=\"rec_k\", type=int, default=5, help=\"length of rec list\")\n",
    "    parser.add_argument(\"--output_path\", dest=\"output_path\", type=str, default=\"results/result dicts/\", \n",
    "                        help=\"The path to save the model\")\n",
    "    parser.add_argument(\"--epochs\", dest=\"epochs\", type=int, default=1000)\n",
    "    parser.add_argument(\"--beta\", dest=\"beta\", type=int, default=0.1 )\n",
    "    return parser.parse_known_args()"
   ]
  },
  {
   "attachments": {},
   "cell_type": "markdown",
   "metadata": {},
   "source": [
    "## Basemodel"
   ]
  },
  {
   "cell_type": "code",
   "execution_count": null,
   "metadata": {},
   "outputs": [],
   "source": [
    "device = \"cpu\""
   ]
  },
  {
   "attachments": {},
   "cell_type": "markdown",
   "metadata": {},
   "source": [
    "### Preprocessing"
   ]
  },
  {
   "cell_type": "code",
   "execution_count": null,
   "metadata": {},
   "outputs": [],
   "source": [
    "# get the arguments for preprocessing\n",
    "preprocessing_args, unkown = arg_parser_preprocessing()\n",
    "# load dataset if the dataset exist\n",
    "dataset_path = preprocessing_args.save_path\n",
    "if preprocessing_args.use_pre:\n",
    "    with open(dataset_path, \"rb\") as f:\n",
    "        dataset = pickle.load(f)\n",
    "else:\n",
    "    dataset = preprocessing(preprocessing_args)\n",
    "    with open(dataset_path, \"wb\") as f:\n",
    "            pickle.dump(dataset, f)"
   ]
  },
  {
   "attachments": {},
   "cell_type": "markdown",
   "metadata": {},
   "source": [
    "### Train base model"
   ]
  },
  {
   "cell_type": "code",
   "execution_count": null,
   "metadata": {},
   "outputs": [],
   "source": [
    "train_args, _ = arg_parser_training()\n",
    "model_path = train_args.model_path\n",
    "if train_args.use_pre:\n",
    "    base_model = BaseRecModel(dataset.feature_num, dataset).to(device)\n",
    "    base_model.load_state_dict(torch.load(model_path))\n",
    "else:\n",
    "    base_model = trainmodel(train_args, dataset)"
   ]
  },
  {
   "attachments": {},
   "cell_type": "markdown",
   "metadata": {},
   "source": [
    "### Results of base model"
   ]
  },
  {
   "cell_type": "code",
   "execution_count": null,
   "metadata": {},
<<<<<<< Updated upstream
   "outputs": [
    {
     "name": "stdout",
     "output_type": "stream",
     "text": [
      "ndcg : 0.08070362842560581\n",
      "f1 : 0.07836107554417414\n"
     ]
    }
   ],
=======
   "outputs": [],
>>>>>>> Stashed changes
   "source": [
    "ndcg, f1, _ = eval_model(dataset, 5, base_model, device)\n",
    "print(f\"ndcg : {ndcg}\")\n",
    "print(f\"f1 : {f1}\")"
   ]
  },
  {
   "attachments": {},
   "cell_type": "markdown",
   "metadata": {},
   "source": [
    "### CEF model"
   ]
  },
  {
   "cell_type": "code",
   "execution_count": null,
   "metadata": {},
   "outputs": [],
   "source": [
    "## stil to do.\n",
    "CEF_args, _ = arg_parser_CEF()\n",
    "model_path = CEF_args.model_path\n",
    "CEF_model = CEF(CEF_args, dataset, base_model).to(device)\n",
    "if CEF_args.use_pre:\n",
    "    CEF_model.load_state_dict(torch.load(model_path))\n",
    "    with open('./data/models/ranked_features.pt', 'rb') as f:\n",
    "        ranked_features = pickle.load(f)\n",
    "else:\n",
    "    CEF_model = train_delta(CEF_args, CEF_model)\n",
    "    print(\"Done training delta, ranking features by explainability score\")\n",
    "    ranked_features = CEF_model.top_k()\n",
    "    print(\"saving...\")\n",
    "    torch.save(CEF_model.state_dict(), model_path)\n",
    "    with open('./data/models/ranked_features.pt', 'wb') as f:\n",
    "        pickle.dump(ranked_features, f)\n",
    "    print(\"done\")\n",
    "\n",
    "ranked_ids_CEF = ranked_features\n",
    "assert ranked_ids_CEF != None"
   ]
  },
  {
   "attachments": {},
   "cell_type": "markdown",
   "metadata": {},
   "source": [
    "### Obtain a list of feature IDs, ranked by explainability score according to the trained CEF model (to clean)"
   ]
  },
  {
<<<<<<< Updated upstream
   "cell_type": "code",
   "execution_count": 12,
   "metadata": {},
   "outputs": [],
   "source": [
    "ranked_ids = CEF_model.top_k()"
   ]
  },
  {
   "cell_type": "code",
   "execution_count": 13,
   "metadata": {},
   "outputs": [],
   "source": [
    "usepre = True\n",
    "if usepre:\n",
    "    with open(\"results/ranked_ids.pickle\", \"rb\") as f:\n",
    "        ranked_ids = pickle.load(f)\n",
    "else:\n",
    "    with open(\"results/ranked_ids.pickle\", \"wb\") as f:\n",
    "        ranked_ids = CEF_model.top_k()\n",
    "        pickle.dump(ranked_ids, f)"
   ]
  },
  {
=======
>>>>>>> Stashed changes
   "attachments": {},
   "cell_type": "markdown",
   "metadata": {},
   "source": [
    "### Plot results"
   ]
  },
  {
   "cell_type": "code",
<<<<<<< Updated upstream
   "execution_count": 14,
   "metadata": {},
   "outputs": [
    {
     "name": "stdout",
     "output_type": "stream",
     "text": [
      "[  56  494 1671 ... 1130 1294  860]\n",
      "0.0\n",
      "0.1\n",
      "0.2\n",
      "0.3\n",
      "0.4\n",
      "0.5\n",
      "0.6\n",
      "0.7\n",
      "0.8\n",
      "0.9\n"
     ]
    }
   ],
   "source": [
    "result_args, _ = arg_parser_results()\n",
    "results = get_results(dataset, result_args, base_model, None, CEF_delete_list=None)"
=======
   "execution_count": null,
   "metadata": {},
   "outputs": [],
   "source": [
    "result_args, _ = arg_parser_results()\n",
    "results = get_results(dataset, result_args, base_model, CEF_model, CEF_delete_list=ranked_ids_CEF.reverse())"
>>>>>>> Stashed changes
   ]
  },
  {
   "cell_type": "code",
<<<<<<< Updated upstream
   "execution_count": 15,
=======
   "execution_count": null,
>>>>>>> Stashed changes
   "metadata": {},
   "outputs": [],
   "source": [
    "def plot_results(results):\n",
    "    for method in results:\n",
    "        result = results[method]\n",
    "        plt.plot(result[\"lt\"], result[\"ndcg\"], label = method)\n",
    "    \n",
    "    plt.xlabel(\"long tail rate\")\n",
    "    plt.ylabel(\"NDCG\")\n",
    "    plt.legend()\n",
    "    plt.show()"
   ]
  },
  {
   "cell_type": "code",
<<<<<<< Updated upstream
   "execution_count": 16,
   "metadata": {},
   "outputs": [
    {
     "data": {
      "image/png": "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",
      "text/plain": [
       "<Figure size 640x480 with 1 Axes>"
      ]
     },
     "metadata": {},
     "output_type": "display_data"
    }
   ],
=======
   "execution_count": null,
   "metadata": {},
   "outputs": [],
>>>>>>> Stashed changes
   "source": [
    "plot_results(results)"
   ]
  },
  {
   "cell_type": "code",
   "execution_count": null,
   "metadata": {},
   "outputs": [],
   "source": []
  }
 ],
 "metadata": {
  "kernelspec": {
   "display_name": "dl2022",
   "language": "python",
   "name": "python3"
  },
  "language_info": {
   "codemirror_mode": {
    "name": "ipython",
    "version": 3
   },
   "file_extension": ".py",
   "mimetype": "text/x-python",
   "name": "python",
   "nbconvert_exporter": "python",
   "pygments_lexer": "ipython3",
   "version": "3.10.6"
  },
  "orig_nbformat": 4,
  "vscode": {
   "interpreter": {
    "hash": "ecadbf4e3aef346790049226dc91e9f34c4aab90566d2b23f967e0df41cfd1ee"
   }
  }
 },
 "nbformat": 4,
 "nbformat_minor": 2
}
